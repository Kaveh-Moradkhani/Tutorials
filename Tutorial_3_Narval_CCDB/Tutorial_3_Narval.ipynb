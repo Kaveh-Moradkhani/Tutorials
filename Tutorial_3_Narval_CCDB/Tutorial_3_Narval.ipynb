{
 "cells": [
  {
   "cell_type": "markdown",
   "id": "3878214a-46d8-4b2c-b21b-ebbc175a59dc",
   "metadata": {},
   "source": [
    "# How to: Work on Narval, CCDB\n",
    "\n",
    "**Learning outcomes**\n",
    "\n",
    "0. [Create a GLobus account for Data transfert](#scrollTo=be524736-3944-4376-b03c-6b85ffb0eb3e)\n",
    "1. [Datasets available](#scrollTo=9f94af8c-5dce-4327-9580-793e7aaecc22)\n",
    "2. [SLURM job template](#scrollTo=3877d880-4c49-4093-9b69-3cdfe6462132)"
   ]
  },
  {
   "cell_type": "markdown",
   "id": "be524736-3944-4376-b03c-6b85ffb0eb3e",
   "metadata": {},
   "source": [
    "<a id='scrollTo=be524736-3944-4376-b03c-6b85ffb0eb3e'></a>\n",
    "## 0. Create a GLobus account for Data transfert\n",
    "1. Got to: https://globus.computecanada.ca. \n",
    "2. Existing organisation: Compute Canada \n",
    "3. Use CCDB login information. \n",
    "4. Follow the instructions and allow everything.\n",
    "5. Clic on \"Collection: Search\" -> Get Globus Connect Personal -> Show me the other supported operating systems \\\n",
    "On linux: \n",
    "```bash\n",
    "tar xzf globusconnectpersonal-latest.tgz\n",
    "cd globusconnectpersonal-3.2.2/\n",
    "./globusconnect\n",
    "```\n",
    "6. Give a name to your new collection and create it\n",
    "7. Clic on \"access data in this collection\"\n",
    "8. On Globus website, you should see your collection selected. Clic on \"Transfer or Sync to\" and \"Collection: Search\" on the right side.\n",
    "9. Enter Collection: Narval. Select \"Compute Canada: Narval\"\n",
    "10. Login using same identity\n",
    "11. Create a bookmark for this page and use it to transfer data between the two selected collections\n",
    "\n"
   ]
  },
  {
   "cell_type": "markdown",
   "id": "9f94af8c-5dce-4327-9580-793e7aaecc22",
   "metadata": {},
   "source": [
    "<a id='scrollTo=9f94af8c-5dce-4327-9580-793e7aaecc22'></a>\n",
    "## 1. Datasets available\n"
   ]
  },
  {
   "cell_type": "markdown",
   "id": "d63a5d22-ae7f-4a34-b349-602134bab11d",
   "metadata": {},
   "source": [
    "<a id='scrollTo=3877d880-4c49-4093-9b69-3cdfe6462132'></a>\n",
    "## 2. SLURM job templates\n",
    "### a) Freesurfer 7.4.1 container\n",
    "<ins>Example you can try directly in Narval</ins>:\n",
    "```bash\n",
    "sbatch ~/projects/def-sbouix/software/Freesurfer7.4.1_container/freesurfer741_job.sh ~/projects/def-sbouix/software/Freesurfer7.4.1_container/test_freesurfer.sh\n",
    "rm -r ~/projects/def-sbouix/software/Freesurfer7.4.1_container/bert\n",
    "```\n",
    "The first script (**freesurfer741_job.sh**) is used to execute the second one (**test_freesurfer.sh**) in a container created based on fs741.sif. \\\n",
    "The second script is using the function **recon-all** of Freesurfer to compute the steps -autorecon1 on the test image /usr/local/freesurfer/subjects/bert/mri/orig/001.mgz. \\\n",
    "**You can copy both scripts in your folder and change them to your needs.** \\\n",
    "They are also available here: https://github.com/Neuro-iX/Tutorials/tree/main/Tutorial_3_Narval_CCDB/scripts\n",
    "\n",
    "<ins>Remark 1</ins>: It is not possible to show an image in **freeview** from a script. \\\n",
    "Instead:\n",
    "```bash\n",
    "salloc --x11  -n 4 --mem-per-cpu=4000 --account=def-sbouix --time=2:59:0\n",
    "module load apptainer/1.1.8\n",
    "apptainer run --bind /lustre06/project/6074560:/mnt ~/projects/def-sbouix/software/Freesurfer7.4.1_container/fs741.sif freeview\n",
    "#apptainer shell --bind /lustre06/project/6074560:/mnt ~/projects/def-sbouix/software/Freesurfer7.4.1_container/fs741.sif\n",
    "#freeview\n",
    "#Ctrl+c\n",
    "#exit\n",
    "```\n",
    "To access $HOME/projects/def-sbouix when **uploading an image in freeview**, go to **Computer -> /mnt**.\n",
    "\n",
    "\n",
    "<ins>Remark 2</ins>: In freesurfer741_job.sh, the #SBATCH directives --ntasks=x and --nodes=y and --ntasks-per-node=z mean that the second script will be **executed x or y*z times** (x=y=z=1 by default).\n",
    "\n",
    "<ins>Remark 3</ins>: In freesurfer741_job.sh, the #SBATCH directive **--time=0:01:00 has to be changed** according to the time needed to compute both scripts.  \\\n",
    "A time higher than 2:59:59 will make it longer for the SLURM job to be launched.\n"
   ]
  },
  {
   "cell_type": "markdown",
   "id": "3310b891-1417-4905-9210-565dfef703e4",
   "metadata": {},
   "source": []
  },
  {
   "cell_type": "markdown",
   "id": "ed0547b3-2ef3-42ea-9a8f-967dc8b28781",
   "metadata": {},
   "source": []
  },
  {
   "cell_type": "markdown",
   "id": "8c30866d-d556-4fea-b70c-802ff6bc18ba",
   "metadata": {},
   "source": []
  },
  {
   "cell_type": "markdown",
   "id": "58d36c2c-7855-4ede-a7d9-0c26ce958f2a",
   "metadata": {},
   "source": []
  }
 ],
 "metadata": {
  "kernelspec": {
   "display_name": "Python 3 (ipykernel)",
   "language": "python",
   "name": "python3"
  },
  "language_info": {
   "codemirror_mode": {
    "name": "ipython",
    "version": 3
   },
   "file_extension": ".py",
   "mimetype": "text/x-python",
   "name": "python",
   "nbconvert_exporter": "python",
   "pygments_lexer": "ipython3",
   "version": "3.11.4"
  }
 },
 "nbformat": 4,
 "nbformat_minor": 5
}
