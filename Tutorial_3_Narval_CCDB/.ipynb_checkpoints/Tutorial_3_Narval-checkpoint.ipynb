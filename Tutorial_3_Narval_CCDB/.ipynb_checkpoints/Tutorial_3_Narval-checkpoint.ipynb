{
 "cells": [
  {
   "cell_type": "markdown",
   "id": "3878214a-46d8-4b2c-b21b-ebbc175a59dc",
   "metadata": {},
   "source": [
    "# How to: Work on Narval, CCDB\n",
    "\n",
    "**Learning outcomes**\n",
    "\n",
    "0. [CCDB account setup and ssh connection to Narval](#scrollTo=)\n",
    "1. [Create a GLobus account for Data transfert (optional)](#scrollTo=be524736-3944-4376-b03c-6b85ffb0eb3e)\n",
    "2. [Structure and Datasets in Narval](#scrollTo=) \\\n",
    "    a) [Storage and file management on Narval](#scrollTo=3877d880-4c49-4093-9b69-3cdfe6462132) \\\n",
    "    b) [Datasets in data](#scrollTo=80d1a788-1996-4b38-8775-1aa50e7cb509)\n",
    "3. [Basic commands on a Narval node](#scrollTo=9f94af8c-5dce-4327-9580-793e7aaecc22)\n",
    "4. [SLURM job templates](#scrollTo=3877d880-4c49-4093-9b69-3cdfe6462132)"
   ]
  },
  {
   "cell_type": "markdown",
   "id": "7ac3be80-2592-4929-9430-2495c05f3dd6",
   "metadata": {},
   "source": [
    "<a id='scrollTo=be524736-3944-4376-b03c-6b85ffb0eb3e'></a>\n",
    "## 0. CCDB account setup and ssh connection to Narval\n",
    "See [Tutorial-1.2](https://colab.research.google.com/github/Neuro-iX/Tutorials/blob/main/Tutorial_1_NewMember/Tutorial_1_NewMember.ipynb#scrollTo=3877d880-4c49-4093-9b69-3cdfe6462132)"
   ]
  },
  {
   "cell_type": "markdown",
   "id": "be524736-3944-4376-b03c-6b85ffb0eb3e",
   "metadata": {},
   "source": [
    "<a id='scrollTo=be524736-3944-4376-b03c-6b85ffb0eb3e'></a>\n",
    "## 1. Create a GLobus account for Data transfert (optional)\n",
    "1. Got to: https://globus.computecanada.ca. \n",
    "2. Existing organisation: Compute Canada \n",
    "3. Use CCDB login information. \n",
    "4. Follow the instructions and allow everything.\n",
    "5. Clic on \"Collection: Search\" -> Get Globus Connect Personal -> Show me the other supported operating systems \\\n",
    "On linux: \n",
    "```bash\n",
    "tar xzf globusconnectpersonal-latest.tgz\n",
    "cd globusconnectpersonal-3.2.2/\n",
    "./globusconnect\n",
    "```\n",
    "6. Give a name to your new collection and create it\n",
    "7. Clic on \"access data in this collection\"\n",
    "8. On Globus website, you should see your collection selected. Clic on \"Transfer or Sync to\" and \"Collection: Search\" on the right side.\n",
    "9. Enter Collection: Narval. Select \"Compute Canada: Narval\"\n",
    "10. Login using same identity\n",
    "11. Create a bookmark for this page and use it to transfer data between the two selected collections\n",
    "\n"
   ]
  },
  {
   "cell_type": "markdown",
   "id": "e4145b57-a17e-479c-8ce7-5fe035809bb0",
   "metadata": {},
   "source": [
    "<a id='scrollTo=9f94af8c-5dce-4327-9580-793e7aaecc22'></a>\n",
    "## 2. Structure and Datasets in Narval\n",
    "\n",
    "<a id='scrollTo=1601e374-1d76-4216-b7f3-0426c30add20'></a>\n",
    "### a) Storage and file management on Narval\n",
    "- **Overall structure:** \\\n",
    "See the structure of your `$HOME (~)`:\n",
    "\n",
    "![Tree_Narval](tree_Narval.png)\n",
    "\n",
    "See the structure of our common project space (**def-sbouix**):\n",
    "\n",
    "![ls_projects](ls_projects.png)\n",
    "\n",
    "Each member has is own folder.  \\\n",
    "You can find different datasets in `data` (see next section). \\\n",
    "Not native softwares (listed with `module spider`) are stored in `software`.\n",
    "\n",
    "- **Use the right storage space for the right task:** \\\n",
    "`/home/<username> (=$HOME)`: source code, small parameter files and job submission scripts  \\\n",
    "`/home/<username>/projects/def-sbouix`: fairly static data to share between members of the project space (**def-sbouix**). It containes your private folder (`<username>`), some data/images (data), some softwares installed manually (software).  \\\n",
    "`/home/<username>/nearline/def-sbouix`: tape-based filesystem intended for **inactive data**.   \\\n",
    "`/scratch/<username> (=$SCRATCH) or $HOME/scratch`: temporary files and intensive read/write operations on large files (> 100 MB per file). **Automatic purging after 60 days.**  \\\n",
    "`SLURM_TMPDIR`: large collections of small files (< 1 MB per file), **deleted at the end of the job**.\n",
    "\n",
    "See best practices and more: https://docs.alliancecan.ca/wiki/Storage_and_file_management\n",
    "\n",
    "- **Safely move a directory with symlinks by making an archive and extract it:**\n",
    "```bash\n",
    "diskusage_report #Check disk spaces being used\n",
    "cd /scratch/.../your_data\n",
    "mkdir project/.../your_data\n",
    "tar cf - ./* | (cd /project/.../your_data && tar xf -)\n",
    "\n",
    "```\n",
    "\n",
    "Documentation: https://docs.alliancecan.ca/wiki/Scratch_purging_policy"
   ]
  },
  {
   "cell_type": "markdown",
   "id": "7cb79d37-cc07-4eda-a17f-1c688027f94f",
   "metadata": {
    "jp-MarkdownHeadingCollapsed": true
   },
   "source": [
    "<a id='scrollTo=1601e374-1d76-4216-b7f3-0426c30add20'></a>\n",
    "### b) Datasets in data\n",
    "- AMPSCZ:\n",
    "- HCPEP:  \n",
    "- HCP-YA:  \n",
    "- HCP-YA-1200:  \n",
    "- HOA2_100_Subcortical:  \n",
    "- NIMH_HC:"
   ]
  },
  {
   "cell_type": "markdown",
   "id": "15fb63eb-8fef-4e63-822f-395cd4ce158f",
   "metadata": {},
   "source": [
    "<a id='scrollTo=f5f45d3e-c3a6-4d7d-a4cb-3723185a4714'></a>\n",
    "## 3. Basic commands on a Narval node\n",
    "\n",
    "- **List all the modules that can be loaded, and load a specific version:**\n",
    "```bash\n",
    "module spider\n",
    "module load freesurfer/5.3.0\n",
    "```\n",
    "Documentation: https://lmod.readthedocs.io/en/latest/135_module_spider.html\n",
    "\n",
    "- **Launch interactive jobs:**\n",
    "```bash\n",
    "salloc --x11  -n 4 --mem-per-cpu=4000 --account=def-sbouix\n",
    "```\n",
    "Documentation: https://docs.alliancecan.ca/wiki/Running_jobs\n",
    "\n",
    "- **Execute a bash script, determine the status of the job, and display the output file:**\n",
    "```bash\n",
    "sbatch simple_job.sh --output=outputfilename.out --time=00:30:00 --account=def-sbouix\n",
    "sq\n",
    "cat outputfilename.out\n",
    "```\n",
    "See next section for examples. \\\n",
    "Documentation: https://docs.alliancecan.ca/wiki/What_is_a_scheduler%3F\n",
    "\n",
    "- **Use Apptainer to create a container:**\n",
    "```bash\n",
    "salloc --x11  -n 4 --mem-per-cpu=4000 --account=def-sbouix #Don't stay on a login node\n",
    "module load apptainer\n",
    "apptainer run -C -B /project -W ${SLURM_TMPDIR} myimage.sif myprogram\n",
    "```\n",
    "See next section for examples. \\\n",
    "Documentation: https://docs.alliancecan.ca/wiki/Apptainer"
   ]
  },
  {
   "cell_type": "markdown",
   "id": "d63a5d22-ae7f-4a34-b349-602134bab11d",
   "metadata": {},
   "source": [
    "<a id='scrollTo=3877d880-4c49-4093-9b69-3cdfe6462132'></a>\n",
    "## 4. SLURM job templates\n",
    "### a) Freesurfer 7.4.1 container\n",
    "<ins>Example you can try directly in Narval</ins>:\n",
    "```bash\n",
    "sbatch ~/projects/def-sbouix/software/Freesurfer7.4.1_container/freesurfer741_job.sh ~/projects/def-sbouix/software/Freesurfer7.4.1_container/test_freesurfer.sh\n",
    "rm -r ~/projects/def-sbouix/software/Freesurfer7.4.1_container/bert\n",
    "```\n",
    "The first script (**freesurfer741_job.sh**) is used to execute the second one (**test_freesurfer.sh**) in a container created based on fs741.sif. \\\n",
    "The second script is using the function **recon-all** of Freesurfer to compute the steps -autorecon1 on the test image /usr/local/freesurfer/subjects/bert/mri/orig/001.mgz. \\\n",
    "**You can copy both scripts in your folder and change them to your needs.** \\\n",
    "They are also available here: https://github.com/Neuro-iX/Tutorials/tree/main/Tutorial_3_Narval_CCDB/scripts\n",
    "\n",
    "<ins>Remark 1</ins>: It is not possible to show an image in **freeview** from a script. \\\n",
    "Instead:\n",
    "```bash\n",
    "salloc --x11  -n 4 --mem-per-cpu=4000 --account=def-sbouix --time=2:59:0\n",
    "module load apptainer/1.1.8\n",
    "apptainer run --bind /lustre06/project/6074560:/mnt ~/projects/def-sbouix/software/Freesurfer7.4.1_container/fs741.sif freeview\n",
    "#apptainer shell --bind /lustre06/project/6074560:/mnt ~/projects/def-sbouix/software/Freesurfer7.4.1_container/fs741.sif\n",
    "#freeview\n",
    "#Ctrl+c\n",
    "#exit\n",
    "```\n",
    "To access $HOME/projects/def-sbouix when **uploading an image in freeview**, go to **Computer -> /mnt**.\n",
    "\n",
    "\n",
    "<ins>Remark 2</ins>: In freesurfer741_job.sh, the #SBATCH directives --ntasks=x and --nodes=y and --ntasks-per-node=z mean that the second script will be **executed x or y*z times** (x=y=z=1 by default).\n",
    "\n",
    "<ins>Remark 3</ins>: In freesurfer741_job.sh, the #SBATCH directive **--time=0:01:00 has to be changed** according to the time needed to compute both scripts.  \\\n",
    "A time higher than 2:59:59 will make it longer for the SLURM job to be launched.\n"
   ]
  },
  {
   "cell_type": "markdown",
   "id": "3310b891-1417-4905-9210-565dfef703e4",
   "metadata": {},
   "source": []
  },
  {
   "cell_type": "markdown",
   "id": "ed0547b3-2ef3-42ea-9a8f-967dc8b28781",
   "metadata": {},
   "source": []
  },
  {
   "cell_type": "markdown",
   "id": "8c30866d-d556-4fea-b70c-802ff6bc18ba",
   "metadata": {},
   "source": []
  },
  {
   "cell_type": "markdown",
   "id": "58d36c2c-7855-4ede-a7d9-0c26ce958f2a",
   "metadata": {},
   "source": []
  }
 ],
 "metadata": {
  "kernelspec": {
   "display_name": "Python 3 (ipykernel)",
   "language": "python",
   "name": "python3"
  },
  "language_info": {
   "codemirror_mode": {
    "name": "ipython",
    "version": 3
   },
   "file_extension": ".py",
   "mimetype": "text/x-python",
   "name": "python",
   "nbconvert_exporter": "python",
   "pygments_lexer": "ipython3",
   "version": "3.11.4"
  }
 },
 "nbformat": 4,
 "nbformat_minor": 5
}
