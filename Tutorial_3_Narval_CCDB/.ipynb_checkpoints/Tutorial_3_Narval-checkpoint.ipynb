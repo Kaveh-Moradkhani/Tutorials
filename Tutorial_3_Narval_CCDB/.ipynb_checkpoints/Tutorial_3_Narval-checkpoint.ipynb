{
 "cells": [
  {
   "cell_type": "markdown",
   "id": "3878214a-46d8-4b2c-b21b-ebbc175a59dc",
   "metadata": {},
   "source": [
    "# How to: Work on Narval, CCDB\n",
    "\n",
    "**Learning outcomes**\n",
    "\n",
    "0. [Install GLobus for Data transfert](#scrollTo=be524736-3944-4376-b03c-6b85ffb0eb3e)\n",
    "1. [Datasets available](#scrollTo=9f94af8c-5dce-4327-9580-793e7aaecc22)\n",
    "2. [SLURM job template](#scrollTo=3877d880-4c49-4093-9b69-3cdfe6462132)"
   ]
  },
  {
   "cell_type": "markdown",
   "id": "be524736-3944-4376-b03c-6b85ffb0eb3e",
   "metadata": {},
   "source": [
    "<a id='scrollTo=be524736-3944-4376-b03c-6b85ffb0eb3e'></a>\n",
    "## 0. Install GLobus for Data transfert\n"
   ]
  },
  {
   "cell_type": "markdown",
   "id": "9f94af8c-5dce-4327-9580-793e7aaecc22",
   "metadata": {},
   "source": [
    "<a id='scrollTo=9f94af8c-5dce-4327-9580-793e7aaecc22'></a>\n",
    "## 1. Datasets available\n"
   ]
  },
  {
   "cell_type": "markdown",
   "id": "d63a5d22-ae7f-4a34-b349-602134bab11d",
   "metadata": {},
   "source": [
    "<a id='scrollTo=3877d880-4c49-4093-9b69-3cdfe6462132'></a>\n",
    "## 2. SLURM job template"
   ]
  },
  {
   "cell_type": "code",
   "execution_count": null,
   "id": "c12be31d-73cb-40f3-947d-63859f36853b",
   "metadata": {},
   "outputs": [],
   "source": []
  }
 ],
 "metadata": {
  "kernelspec": {
   "display_name": "Python 3 (ipykernel)",
   "language": "python",
   "name": "python3"
  },
  "language_info": {
   "codemirror_mode": {
    "name": "ipython",
    "version": 3
   },
   "file_extension": ".py",
   "mimetype": "text/x-python",
   "name": "python",
   "nbconvert_exporter": "python",
   "pygments_lexer": "ipython3",
   "version": "3.11.4"
  }
 },
 "nbformat": 4,
 "nbformat_minor": 5
}
