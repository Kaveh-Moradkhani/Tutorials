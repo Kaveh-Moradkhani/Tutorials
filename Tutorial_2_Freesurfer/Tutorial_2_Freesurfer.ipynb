{
 "cells": [
  {
   "cell_type": "markdown",
   "id": "e28fe2f6-e94a-4c7f-8ea8-0a3779334a61",
   "metadata": {},
   "source": [
    "# How to: Set up Freesurfer and learn how to use it\n",
    "\n",
    "**Learning outcomes**\n",
    "\n",
    "0. [Freesurfer overview](#scrollTo=aedebd39-9094-464d-ae38-4c1edf7f611f)\n",
    "1. [Freesurfer installation/build](#scrollTo=605e89f2-33b2-4dba-a2e1-fb35a17b3714)\n",
    "2. [Freesurfer tutorials](#scrollTo=5fda20fb-361e-499c-96f8-728ff6366f0e) "
   ]
  },
  {
   "cell_type": "markdown",
   "id": "aedebd39-9094-464d-ae38-4c1edf7f611f",
   "metadata": {},
   "source": [
    "<a id='scrollTo=aedebd39-9094-464d-ae38-4c1edf7f611f'></a>\n",
    "## 0. Freesurfer overview\n",
    "- **Overview:** \\\n",
    "https://surfer.nmr.mgh.harvard.edu/fswiki/FreeSurferAnalysisPipelineOverview\n",
    "\n",
    "- **recon-all description (main function, last edited 2017-12-08):** \\\n",
    "https://surfer.nmr.mgh.harvard.edu/fswiki/recon-all\n",
    "\n",
    "- **recon-all description table (version 7.1, last edited 2020-12-14):** \\\n",
    "https://surfer.nmr.mgh.harvard.edu/fswiki/ReconAllTableStableV6.0"
   ]
  },
  {
   "cell_type": "markdown",
   "id": "605e89f2-33b2-4dba-a2e1-fb35a17b3714",
   "metadata": {},
   "source": [
    "<a id='scrollTo=605e89f2-33b2-4dba-a2e1-fb35a17b3714'></a>\n",
    "## 1. Freesurfer installation/build\n",
    "- **If you are on Windows, you can install a Linux virtual machine:** \\\n",
    "See section 4 of [**New member's guidebook**](https://colab.research.google.com/github/Neuro-iX/Tutorials/blob/main/Tutorial_1_NewMember/Tutorial_1_NewMember.ipynb)\n",
    "\n",
    "- **Install Freesurfer 7.X (macOS or Linux OS):** \\\n",
    "https://surfer.nmr.mgh.harvard.edu/fswiki/rel7downloads\n",
    "\n",
    "- **Alternatively, build Freesurfer from source code on Github (only if you want to change the code):** \\\n",
    "https://surfer.nmr.mgh.harvard.edu/fswiki/BuildGuide\n",
    "\n",
    "- **Setup Freesurfer:** \\\n",
    "https://surfer.nmr.mgh.harvard.edu/fswiki/SetupConfiguration \\\n",
    "Get your **license.txt** to put into your local **freesurfer** folder: \\\n",
    "https://surfer.nmr.mgh.harvard.edu/registration.html \\\n",
    "Source Freesurfer every time you open a terminal (in bash here):\n",
    "```bash\n",
    "nano ~/.bashrc #Open the hidden file ~/.bashrc using nano editor\n",
    "# Ctrl + w + v #Get at the end\n",
    "```\n",
    "\n",
    "Copy this two lines:\n",
    "```javascript\n",
    "export FREESURFER_HOME=/usr/local/freesurfer\n",
    "source $FREESURFER_HOME/SetUpFreeSurfer.sh\n",
    "```\n",
    "\n",
    "```bash\n",
    "# Right click > Paste\n",
    "# Ctrl + o > Enter #Save changes\n",
    "# Ctrl + x #Quit nano\n",
    "source ~/.profile #Update your terminal\n",
    "cd ~/Documents #Go to your working directory (wd)\n",
    "export SUBJECTS_DIR=`pwd` #Change freesurfer output file path\n",
    "echo $SUBJECTS_DIR #Check the change\n",
    "```\n"
   ]
  },
  {
   "cell_type": "markdown",
   "id": "5fda20fb-361e-499c-96f8-728ff6366f0e",
   "metadata": {},
   "source": [
    "<a id='scrollTo=5fda20fb-361e-499c-96f8-728ff6366f0e'></a>\n",
    "## 2. Freesurfer tutorials\n",
    "\n",
    "- **Basic tutorials:** \\\n",
    "https://surfer.nmr.mgh.harvard.edu/fswiki/FsTutorial/OutputData_freeview \\\n",
    "https://www.youtube.com/watch?v=6wxJ1up-E7E\n",
    "\n",
    "- **Datasets:** \\\n",
    "https://github.com/HOA-2/SubcorticalParcellations \\\n",
    "https://nda.nih.gov/general-query.html?q=query=featured-datasets:Connectomes%20Related%20to%20Human%20Disease"
   ]
  },
  {
   "cell_type": "code",
   "execution_count": null,
   "id": "22f94fdb-ed1e-4ab4-8eb4-1efcebf9136e",
   "metadata": {},
   "outputs": [],
   "source": []
  },
  {
   "cell_type": "code",
   "execution_count": null,
   "id": "19e2cddf-c2a6-4567-81a9-8734f7b3d71d",
   "metadata": {},
   "outputs": [],
   "source": []
  }
 ],
 "metadata": {
  "kernelspec": {
   "display_name": "Python 3 (ipykernel)",
   "language": "python",
   "name": "python3"
  },
  "language_info": {
   "codemirror_mode": {
    "name": "ipython",
    "version": 3
   },
   "file_extension": ".py",
   "mimetype": "text/x-python",
   "name": "python",
   "nbconvert_exporter": "python",
   "pygments_lexer": "ipython3",
   "version": "3.11.4"
  }
 },
 "nbformat": 4,
 "nbformat_minor": 5
}
