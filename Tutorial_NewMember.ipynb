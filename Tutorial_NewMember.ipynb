{
 "cells": [
  {
   "cell_type": "markdown",
   "id": "1cc690c7-d513-4d41-a190-d5ff49d5bdc1",
   "metadata": {},
   "source": [
    "# How to: Set up everything as a new member of Neuro-iX\n",
    "\n",
    "**Learning outcomes**\n",
    "\n",
    "1. Website Neuro-iX.github.io\n",
    "2. New account to access Narval's compute nodes \\\n",
    "    a) Create an account on Digital Research Aliance of Canada \\\n",
    "    b) Install and configure Putty/MobalXterm for connexion to Narval \\\n",
    "    c) Basic commands example\n",
    "3. Setup Git and Jupyterlab on your laptop \\\n",
    "    a) Installation and configuration of git\n",
    "5. Setup a virtual machine on your laptop"
   ]
  },
  {
   "cell_type": "markdown",
   "id": "9f94af8c-5dce-4327-9580-793e7aaecc22",
   "metadata": {},
   "source": [
    "## 1. Website Neuro-iX.github.io\n",
    "\n",
    "**Visit our website:** \\\n",
    "https://neuro-ix.github.io\n",
    "\n",
    "**Complete this Google Form for updating the website with your professionnal information:**  \\\n",
    "https://forms.gle/ED53rp24KYCZtMYu7"
   ]
  },
  {
   "cell_type": "markdown",
   "id": "3877d880-4c49-4093-9b69-3cdfe6462132",
   "metadata": {},
   "source": [
    "## 2. New account to access Narval's compute nodes\n",
    "### a) Create an account on Digital Research Aliance of Canada (DRAC)\n",
    "\n",
    "Ask Sylvain Bouix to create a new account for you, follow the instrcutions and connect here:\n",
    "https://ccdb.alliancecan.ca/security/login\n",
    "\n",
    "### b) Install and configure Putty/MobalXterm for connexion to Narval\n",
    "\n",
    "**Follow the instructions here to set up a ssh key for your account:** \\\n",
    "https://docs.alliancecan.ca/wiki/SSH_Keys#Using_CCDB \\\n",
    "Generate key using ssh-keygen cmd\n",
    "\n",
    "If you are on Windows, you can use **MobaXterm**. Putty if on Linux or Windows.\n",
    "https://mobaxterm.mobatek.net/download-home-edition.html\n",
    "\n",
    "**To create a new session on narval:** \\\n",
    "remote host: narval.calculcanada.ca \\\n",
    "username: \"username-on-DRAC\" \\\n",
    "advanced ssh settings -> private key\n",
    "\n",
    "### c) Basic commands example\n",
    "\n",
    "**Launch interactive jobs:** \\\n",
    "salloc --x11  -n 4 --mem-per-cpu=4000 --account=def-sbouix \\\n",
    "**Documentation:** https://docs.alliancecan.ca/wiki/Running_jobs"
   ]
  },
  {
   "cell_type": "markdown",
   "id": "37d0971e-0a67-499d-b194-3d630dedabfe",
   "metadata": {},
   "source": [
    "## 3. Setup Git and Jupyterlab on your laptop\n",
    "\n",
    "### a) Installation and configuration of git\n",
    "\n",
    "**In a powershell or terminal, activate your ssh key:** \\\n",
    "eval $(ssh-agent -s) \\\n",
    "ssh-add ~/.ssh/mykey\n",
    "\n",
    "**Check updates of your git folder:** \\\n",
    "git fetch origin \\\n",
    "alias graph='git log --all --decorate --oneline --graph' \\\n",
    "graph\n",
    "\n",
    "**Synchronize git local folder with remote folder on GitHub:** \\\n",
    "git add new-file-name \\\n",
    "git commit -m \"message to explain commit\" \\\n",
    "graph \\\n",
    "git push origin main \\\n",
    "graph\n"
   ]
  },
  {
   "cell_type": "markdown",
   "id": "edd34488-e440-4f79-b2c2-7d843d491e03",
   "metadata": {},
   "source": [
    "## 4. Setup a virtual machine on your laptop"
   ]
  },
  {
   "cell_type": "code",
   "execution_count": null,
   "id": "ad9c2bd5-268f-4dd5-8a8e-6fd0ccd68237",
   "metadata": {},
   "outputs": [],
   "source": []
  }
 ],
 "metadata": {
  "kernelspec": {
   "display_name": "Python 3 (ipykernel)",
   "language": "python",
   "name": "python3"
  },
  "language_info": {
   "codemirror_mode": {
    "name": "ipython",
    "version": 3
   },
   "file_extension": ".py",
   "mimetype": "text/x-python",
   "name": "python",
   "nbconvert_exporter": "python",
   "pygments_lexer": "ipython3",
   "version": "3.11.4"
  }
 },
 "nbformat": 4,
 "nbformat_minor": 5
}
