{
 "cells": [
  {
   "cell_type": "markdown",
   "id": "e28fe2f6-e94a-4c7f-8ea8-0a3779334a61",
   "metadata": {},
   "source": [
    "# How to: Set up Freesurfer and learn how to use it\n",
    "\n",
    "**Learning outcomes**\n",
    "\n",
    "0. [Freesurfer](#scrollTo=be524736-3944-4376-b03c-6b85ffb0eb3e)\n",
    "1. [Freesurfer installation/build](#scrollTo=9f94af8c-5dce-4327-9580-793e7aaecc22)\n",
    "2. [Freesurfer tutorial](#scrollTo=3877d880-4c49-4093-9b69-3cdfe6462132) "
   ]
  },
  {
   "cell_type": "markdown",
   "id": "aedebd39-9094-464d-ae38-4c1edf7f611f",
   "metadata": {},
   "source": [
    "<a id='scrollTo=be524736-3944-4376-b03c-6b85ffb0eb3e'></a>\n",
    "## 0. Freesurfer\n",
    "- **Overview:** \\\n",
    "https://surfer.nmr.mgh.harvard.edu/fswiki/FreeSurferAnalysisPipelineOverview\n",
    "\n",
    "- **recon-all description (main function, last edited 2017-12-08):** \\\n",
    "https://surfer.nmr.mgh.harvard.edu/fswiki/recon-all\n",
    "\n",
    "- **recon-all description table (version 7.1, last edited 2020-12-14):** \\\n",
    "https://surfer.nmr.mgh.harvard.edu/fswiki/ReconAllTableStableV6.0"
   ]
  },
  {
   "cell_type": "markdown",
   "id": "605e89f2-33b2-4dba-a2e1-fb35a17b3714",
   "metadata": {},
   "source": [
    "<a id='scrollTo=9f94af8c-5dce-4327-9580-793e7aaecc22'></a>\n",
    "## 1. Freesurfer installation/build\n",
    "\n",
    "- **Install Freesurfer 7.X:** \\\n",
    "https://surfer.nmr.mgh.harvard.edu/fswiki/rel7downloads\n",
    "\n",
    "- **Build Freesurfer from source code on Github (if you want to change the code):** \\\n",
    "https://surfer.nmr.mgh.harvard.edu/fswiki/BuildGuide\n",
    "\n"
   ]
  },
  {
   "cell_type": "markdown",
   "id": "5fda20fb-361e-499c-96f8-728ff6366f0e",
   "metadata": {},
   "source": [
    "<a id='scrollTo=3877d880-4c49-4093-9b69-3cdfe6462132'></a>\n",
    "## 2. Freesurfer tutorial\n",
    "\n",
    "- **Basic tutorials:** \\\n",
    "https://surfer.nmr.mgh.harvard.edu/fswiki/FsTutorial/OutputData_freeview \\\n",
    "https://www.youtube.com/watch?v=6wxJ1up-E7E\n",
    "\n",
    "- **Datasets:** \\\n",
    "https://github.com/HOA-2/SubcorticalParcellations \\\n",
    "https://nda.nih.gov/general-query.html?q=query=featured-datasets:Connectomes%20Related%20to%20Human%20Disease"
   ]
  },
  {
   "cell_type": "code",
   "execution_count": null,
   "id": "22f94fdb-ed1e-4ab4-8eb4-1efcebf9136e",
   "metadata": {},
   "outputs": [],
   "source": []
  },
  {
   "cell_type": "code",
   "execution_count": null,
   "id": "19e2cddf-c2a6-4567-81a9-8734f7b3d71d",
   "metadata": {},
   "outputs": [],
   "source": []
  }
 ],
 "metadata": {
  "kernelspec": {
   "display_name": "Python 3 (ipykernel)",
   "language": "python",
   "name": "python3"
  },
  "language_info": {
   "codemirror_mode": {
    "name": "ipython",
    "version": 3
   },
   "file_extension": ".py",
   "mimetype": "text/x-python",
   "name": "python",
   "nbconvert_exporter": "python",
   "pygments_lexer": "ipython3",
   "version": "3.11.4"
  }
 },
 "nbformat": 4,
 "nbformat_minor": 5
}
